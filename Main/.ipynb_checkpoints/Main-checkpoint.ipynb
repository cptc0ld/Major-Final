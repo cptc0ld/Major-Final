{
 "cells": [
  {
   "cell_type": "code",
   "execution_count": 74,
   "metadata": {
    "id": "8esuaW_L8kPH",
    "scrolled": true
   },
   "outputs": [],
   "source": [
    "import numpy as np\n",
    "import pandas as pd\n",
    "import matplotlib.pyplot as plt\n",
    "import math\n",
    "import time\n",
    "import datetime\n",
    "from dateutil import parser\n",
    "import matplotlib.dates as mdates\n",
    "import matplotlib.ticker as plticker\n",
    "\n",
    "from keras.models import Sequential\n",
    "from keras.layers import Dense\n",
    "from keras.layers import LSTM\n",
    "\n",
    "from sklearn.preprocessing import MinMaxScaler\n",
    "from sklearn.metrics import mean_squared_error\n",
    "\n",
    "\n",
    "#np.set_printoptions(threshold=np.inf)"
   ]
  },
  {
   "cell_type": "markdown",
   "metadata": {
    "id": "qripV7ff8kPI"
   },
   "source": [
    "# Load the dataset"
   ]
  },
  {
   "cell_type": "code",
   "execution_count": 75,
   "metadata": {
    "id": "D6SNTPDI8kPI"
   },
   "outputs": [],
   "source": [
    "df = pd.read_csv('CryptoDatasetReddit.csv',index_col=0)"
   ]
  },
  {
   "cell_type": "code",
   "execution_count": 76,
   "metadata": {
    "colab": {
     "base_uri": "https://localhost:8080/"
    },
    "id": "XTFZPzdj8kPJ",
    "outputId": "7694e423-53eb-4e7b-88c4-736236dfe420",
    "scrolled": false
   },
   "outputs": [
    {
     "data": {
      "text/plain": [
       "Index(['open_BTCUSDT', 'high_BTCUSDT', 'low_BTCUSDT', 'close_BTCUSDT',\n",
       "       'volume_BTCUSDT', 'close_LTCUSD', 'volume_LTCUSD', 'close_ETHUSD',\n",
       "       'volume_ETHUSD', 'reddit_flair', 'reddit_tb_polarity',\n",
       "       'reddit_tb_subjectivity', 'reddit_sid_pos', 'reddit_sid_neg',\n",
       "       'reddit_sid_neu', 'reddit_sid_com'],\n",
       "      dtype='object')"
      ]
     },
     "execution_count": 76,
     "metadata": {
      "tags": []
     },
     "output_type": "execute_result"
    }
   ],
   "source": [
    "df.columns"
   ]
  },
  {
   "cell_type": "code",
   "execution_count": 77,
   "metadata": {
    "colab": {
     "base_uri": "https://localhost:8080/",
     "height": 810
    },
    "id": "AkmOojmJ8kPK",
    "outputId": "f49c004a-a62e-4982-b5fe-4a318b995c5c"
   },
   "outputs": [
    {
     "data": {
      "text/html": [
       "<div>\n",
       "<style scoped>\n",
       "    .dataframe tbody tr th:only-of-type {\n",
       "        vertical-align: middle;\n",
       "    }\n",
       "\n",
       "    .dataframe tbody tr th {\n",
       "        vertical-align: top;\n",
       "    }\n",
       "\n",
       "    .dataframe thead th {\n",
       "        text-align: right;\n",
       "    }\n",
       "</style>\n",
       "<table border=\"1\" class=\"dataframe\">\n",
       "  <thead>\n",
       "    <tr style=\"text-align: right;\">\n",
       "      <th></th>\n",
       "      <th>open_BTCUSDT</th>\n",
       "      <th>high_BTCUSDT</th>\n",
       "      <th>low_BTCUSDT</th>\n",
       "      <th>close_BTCUSDT</th>\n",
       "      <th>volume_BTCUSDT</th>\n",
       "      <th>close_LTCUSD</th>\n",
       "      <th>volume_LTCUSD</th>\n",
       "      <th>close_ETHUSD</th>\n",
       "      <th>volume_ETHUSD</th>\n",
       "      <th>reddit_flair</th>\n",
       "      <th>reddit_tb_polarity</th>\n",
       "      <th>reddit_tb_subjectivity</th>\n",
       "      <th>reddit_sid_pos</th>\n",
       "      <th>reddit_sid_neg</th>\n",
       "      <th>reddit_sid_neu</th>\n",
       "      <th>reddit_sid_com</th>\n",
       "    </tr>\n",
       "    <tr>\n",
       "      <th>timestamp</th>\n",
       "      <th></th>\n",
       "      <th></th>\n",
       "      <th></th>\n",
       "      <th></th>\n",
       "      <th></th>\n",
       "      <th></th>\n",
       "      <th></th>\n",
       "      <th></th>\n",
       "      <th></th>\n",
       "      <th></th>\n",
       "      <th></th>\n",
       "      <th></th>\n",
       "      <th></th>\n",
       "      <th></th>\n",
       "      <th></th>\n",
       "      <th></th>\n",
       "    </tr>\n",
       "  </thead>\n",
       "  <tbody>\n",
       "    <tr>\n",
       "      <th>2018-01-01 00:00:00</th>\n",
       "      <td>13820.26</td>\n",
       "      <td>13820.26</td>\n",
       "      <td>13498.05</td>\n",
       "      <td>13557.88</td>\n",
       "      <td>210.213142</td>\n",
       "      <td>222.24</td>\n",
       "      <td>590.23000</td>\n",
       "      <td>728.77</td>\n",
       "      <td>625.293831</td>\n",
       "      <td>0.000000</td>\n",
       "      <td>0.000000</td>\n",
       "      <td>0.000000</td>\n",
       "      <td>0.000000</td>\n",
       "      <td>0.000000</td>\n",
       "      <td>0.000000</td>\n",
       "      <td>0.000000</td>\n",
       "    </tr>\n",
       "    <tr>\n",
       "      <th>2018-01-01 01:00:00</th>\n",
       "      <td>13557.88</td>\n",
       "      <td>13585.66</td>\n",
       "      <td>13250.50</td>\n",
       "      <td>13262.85</td>\n",
       "      <td>191.931776</td>\n",
       "      <td>215.20</td>\n",
       "      <td>698.36000</td>\n",
       "      <td>724.27</td>\n",
       "      <td>710.891607</td>\n",
       "      <td>-0.267228</td>\n",
       "      <td>0.046199</td>\n",
       "      <td>0.257910</td>\n",
       "      <td>0.105625</td>\n",
       "      <td>0.091875</td>\n",
       "      <td>0.802500</td>\n",
       "      <td>0.181325</td>\n",
       "    </tr>\n",
       "    <tr>\n",
       "      <th>2018-01-01 02:00:00</th>\n",
       "      <td>13262.85</td>\n",
       "      <td>13400.00</td>\n",
       "      <td>13186.02</td>\n",
       "      <td>13320.00</td>\n",
       "      <td>169.456410</td>\n",
       "      <td>215.36</td>\n",
       "      <td>464.55000</td>\n",
       "      <td>722.11</td>\n",
       "      <td>849.257651</td>\n",
       "      <td>-0.300781</td>\n",
       "      <td>-0.077217</td>\n",
       "      <td>0.273153</td>\n",
       "      <td>0.032000</td>\n",
       "      <td>0.019333</td>\n",
       "      <td>0.948667</td>\n",
       "      <td>0.330133</td>\n",
       "    </tr>\n",
       "    <tr>\n",
       "      <th>2018-01-01 03:00:00</th>\n",
       "      <td>13320.00</td>\n",
       "      <td>13515.44</td>\n",
       "      <td>13308.54</td>\n",
       "      <td>13372.00</td>\n",
       "      <td>80.455327</td>\n",
       "      <td>219.30</td>\n",
       "      <td>407.81000</td>\n",
       "      <td>733.19</td>\n",
       "      <td>556.397003</td>\n",
       "      <td>0.082537</td>\n",
       "      <td>0.242468</td>\n",
       "      <td>0.404416</td>\n",
       "      <td>0.156286</td>\n",
       "      <td>0.025000</td>\n",
       "      <td>0.818714</td>\n",
       "      <td>0.280143</td>\n",
       "    </tr>\n",
       "    <tr>\n",
       "      <th>2018-01-01 04:00:00</th>\n",
       "      <td>13372.00</td>\n",
       "      <td>13499.83</td>\n",
       "      <td>13279.50</td>\n",
       "      <td>13483.06</td>\n",
       "      <td>127.212610</td>\n",
       "      <td>223.72</td>\n",
       "      <td>965.39000</td>\n",
       "      <td>738.59</td>\n",
       "      <td>1247.722800</td>\n",
       "      <td>0.443654</td>\n",
       "      <td>0.235317</td>\n",
       "      <td>0.321429</td>\n",
       "      <td>0.153143</td>\n",
       "      <td>0.005143</td>\n",
       "      <td>0.841714</td>\n",
       "      <td>0.341757</td>\n",
       "    </tr>\n",
       "    <tr>\n",
       "      <th>...</th>\n",
       "      <td>...</td>\n",
       "      <td>...</td>\n",
       "      <td>...</td>\n",
       "      <td>...</td>\n",
       "      <td>...</td>\n",
       "      <td>...</td>\n",
       "      <td>...</td>\n",
       "      <td>...</td>\n",
       "      <td>...</td>\n",
       "      <td>...</td>\n",
       "      <td>...</td>\n",
       "      <td>...</td>\n",
       "      <td>...</td>\n",
       "      <td>...</td>\n",
       "      <td>...</td>\n",
       "      <td>...</td>\n",
       "    </tr>\n",
       "    <tr>\n",
       "      <th>2019-11-20 19:00:00</th>\n",
       "      <td>8099.26</td>\n",
       "      <td>8109.92</td>\n",
       "      <td>8077.82</td>\n",
       "      <td>8086.65</td>\n",
       "      <td>1.910237</td>\n",
       "      <td>54.68</td>\n",
       "      <td>26.89869</td>\n",
       "      <td>174.40</td>\n",
       "      <td>22.319940</td>\n",
       "      <td>0.328284</td>\n",
       "      <td>0.142630</td>\n",
       "      <td>0.506278</td>\n",
       "      <td>0.110429</td>\n",
       "      <td>0.049857</td>\n",
       "      <td>0.839857</td>\n",
       "      <td>0.092543</td>\n",
       "    </tr>\n",
       "    <tr>\n",
       "      <th>2019-11-20 20:00:00</th>\n",
       "      <td>8083.19</td>\n",
       "      <td>8111.17</td>\n",
       "      <td>8081.72</td>\n",
       "      <td>8102.66</td>\n",
       "      <td>9.783435</td>\n",
       "      <td>55.06</td>\n",
       "      <td>21.18500</td>\n",
       "      <td>174.45</td>\n",
       "      <td>25.050680</td>\n",
       "      <td>0.000208</td>\n",
       "      <td>0.375000</td>\n",
       "      <td>0.500000</td>\n",
       "      <td>0.314500</td>\n",
       "      <td>0.000000</td>\n",
       "      <td>0.685500</td>\n",
       "      <td>0.511350</td>\n",
       "    </tr>\n",
       "    <tr>\n",
       "      <th>2019-11-20 21:00:00</th>\n",
       "      <td>8096.06</td>\n",
       "      <td>8111.25</td>\n",
       "      <td>8078.80</td>\n",
       "      <td>8098.29</td>\n",
       "      <td>1.726209</td>\n",
       "      <td>55.10</td>\n",
       "      <td>16.47622</td>\n",
       "      <td>175.48</td>\n",
       "      <td>32.281160</td>\n",
       "      <td>0.187590</td>\n",
       "      <td>-0.077778</td>\n",
       "      <td>0.144444</td>\n",
       "      <td>0.000000</td>\n",
       "      <td>0.157500</td>\n",
       "      <td>0.842500</td>\n",
       "      <td>-0.248400</td>\n",
       "    </tr>\n",
       "    <tr>\n",
       "      <th>2019-11-20 22:00:00</th>\n",
       "      <td>8097.40</td>\n",
       "      <td>8113.96</td>\n",
       "      <td>8084.94</td>\n",
       "      <td>8091.13</td>\n",
       "      <td>1.683230</td>\n",
       "      <td>54.90</td>\n",
       "      <td>35.17709</td>\n",
       "      <td>174.72</td>\n",
       "      <td>5.926510</td>\n",
       "      <td>0.996935</td>\n",
       "      <td>0.050000</td>\n",
       "      <td>0.191667</td>\n",
       "      <td>0.252000</td>\n",
       "      <td>0.000000</td>\n",
       "      <td>0.748000</td>\n",
       "      <td>0.401900</td>\n",
       "    </tr>\n",
       "    <tr>\n",
       "      <th>2019-11-20 23:00:00</th>\n",
       "      <td>8091.13</td>\n",
       "      <td>8102.08</td>\n",
       "      <td>8077.09</td>\n",
       "      <td>8094.38</td>\n",
       "      <td>4.582621</td>\n",
       "      <td>54.92</td>\n",
       "      <td>12.87105</td>\n",
       "      <td>174.33</td>\n",
       "      <td>16.345070</td>\n",
       "      <td>0.188940</td>\n",
       "      <td>0.029896</td>\n",
       "      <td>0.147014</td>\n",
       "      <td>0.042000</td>\n",
       "      <td>0.035333</td>\n",
       "      <td>0.922667</td>\n",
       "      <td>-0.282500</td>\n",
       "    </tr>\n",
       "  </tbody>\n",
       "</table>\n",
       "<p>16536 rows × 16 columns</p>\n",
       "</div>"
      ],
      "text/plain": [
       "                     open_BTCUSDT  high_BTCUSDT  ...  reddit_sid_neu  reddit_sid_com\n",
       "timestamp                                        ...                                \n",
       "2018-01-01 00:00:00      13820.26      13820.26  ...        0.000000        0.000000\n",
       "2018-01-01 01:00:00      13557.88      13585.66  ...        0.802500        0.181325\n",
       "2018-01-01 02:00:00      13262.85      13400.00  ...        0.948667        0.330133\n",
       "2018-01-01 03:00:00      13320.00      13515.44  ...        0.818714        0.280143\n",
       "2018-01-01 04:00:00      13372.00      13499.83  ...        0.841714        0.341757\n",
       "...                           ...           ...  ...             ...             ...\n",
       "2019-11-20 19:00:00       8099.26       8109.92  ...        0.839857        0.092543\n",
       "2019-11-20 20:00:00       8083.19       8111.17  ...        0.685500        0.511350\n",
       "2019-11-20 21:00:00       8096.06       8111.25  ...        0.842500       -0.248400\n",
       "2019-11-20 22:00:00       8097.40       8113.96  ...        0.748000        0.401900\n",
       "2019-11-20 23:00:00       8091.13       8102.08  ...        0.922667       -0.282500\n",
       "\n",
       "[16536 rows x 16 columns]"
      ]
     },
     "execution_count": 77,
     "metadata": {
      "tags": []
     },
     "output_type": "execute_result"
    }
   ],
   "source": [
    "df"
   ]
  },
  {
   "cell_type": "markdown",
   "metadata": {
    "id": "8kCxqz4g8kPK"
   },
   "source": [
    "# Dataset scalling"
   ]
  },
  {
   "cell_type": "code",
   "execution_count": 78,
   "metadata": {
    "colab": {
     "base_uri": "https://localhost:8080/"
    },
    "id": "LE95MEQY8kPK",
    "outputId": "2fb659c2-c7ad-4845-d3a6-62bda2b61194",
    "scrolled": true
   },
   "outputs": [
    {
     "name": "stdout",
     "output_type": "stream",
     "text": [
      "Number of features 16\n"
     ]
    }
   ],
   "source": [
    "dataset = df.values\n",
    "dataset = dataset.astype('float32')\n",
    "scaler = MinMaxScaler(feature_range=(0, 1))\n",
    "dataset = scaler.fit_transform(dataset)\n",
    "#print('dataset.shape', dataset.shape)\n",
    "Nfeatures = len(df.columns)\n",
    "print('Number of features', Nfeatures)"
   ]
  },
  {
   "cell_type": "markdown",
   "metadata": {
    "id": "Ctj8p_6Y8kPK"
   },
   "source": [
    "# Model Config"
   ]
  },
  {
   "cell_type": "code",
   "execution_count": 79,
   "metadata": {
    "id": "XCkAqJ_l8kPK"
   },
   "outputs": [],
   "source": [
    "lookBack = 30*24\n",
    "lstmLayers = 42\n",
    "epochs=10\n",
    "batchSize=128 "
   ]
  },
  {
   "cell_type": "markdown",
   "metadata": {
    "id": "5FmZqUas8kPK"
   },
   "source": [
    "# Spliting datasets into train and test"
   ]
  },
  {
   "cell_type": "code",
   "execution_count": 80,
   "metadata": {
    "colab": {
     "base_uri": "https://localhost:8080/"
    },
    "id": "4BhvfsNF8kPK",
    "outputId": "f6f56eac-05e7-4ade-9a8d-9f4d6287c398"
   },
   "outputs": [
    {
     "name": "stdout",
     "output_type": "stream",
     "text": [
      "Training dataset length  11575\n",
      "Testing dataset length  4961\n",
      "look back  720\n"
     ]
    }
   ],
   "source": [
    "trainSizePer = 0.70 \n",
    "predictCol = df.columns.get_loc('close_BTCUSDT')\n",
    "\n",
    "def create_dataset(dataset, predictCol, lookBack=1):\n",
    "  dataX, dataY = [], []\n",
    "  for i in range(len(dataset)-lookBack-1):\n",
    "    a = dataset[i:(i+lookBack), :]\n",
    "    dataX.append(a)\n",
    "    dataY.append(dataset[i + lookBack, predictCol])\n",
    "  return np.array(dataX), np.array(dataY)\n",
    "\n",
    "\n",
    "trainSize = int(len(dataset) * trainSizePer)\n",
    "testSize = len(dataset) - trainSize\n",
    "train, test = dataset[0:trainSize, :], dataset[trainSize:len(dataset), :]\n",
    "\n",
    "trainX, trainY = create_dataset(train, predictCol, lookBack=lookBack)\n",
    "testX, testY = create_dataset(test, predictCol, lookBack=lookBack)\n",
    "\n",
    "trainX = np.reshape(trainX, (trainX.shape[0], lookBack, Nfeatures))\n",
    "testX = np.reshape(testX, (testX.shape[0],lookBack, Nfeatures))\n",
    "\n",
    "print('Training dataset length ', len(train))\n",
    "print('Testing dataset length ', len(test))\n",
    "print('look back ', lookBack)"
   ]
  },
  {
   "cell_type": "markdown",
   "metadata": {
    "id": "f1q70giw8kPK"
   },
   "source": [
    "# Building model and train"
   ]
  },
  {
   "cell_type": "code",
   "execution_count": 81,
   "metadata": {
    "id": "ojNV2q7q8kPK",
    "scrolled": true
   },
   "outputs": [],
   "source": [
    "model = Sequential()\n",
    "model.add(LSTM(lstmLayers, input_shape=(lookBack,Nfeatures)))\n",
    "model.add(Dense(1))\n",
    "model.compile(loss='mean_squared_error', optimizer='adam')"
   ]
  },
  {
   "cell_type": "code",
   "execution_count": 82,
   "metadata": {
    "colab": {
     "base_uri": "https://localhost:8080/"
    },
    "id": "TVo8j2QiUFGD",
    "outputId": "da333fff-abfb-4fb0-c609-464626d5469c"
   },
   "outputs": [
    {
     "name": "stdout",
     "output_type": "stream",
     "text": [
      "**************************************************\n",
      "Model summary:\n",
      "Model: \"sequential_6\"\n",
      "_________________________________________________________________\n",
      "Layer (type)                 Output Shape              Param #   \n",
      "=================================================================\n",
      "lstm_6 (LSTM)                (None, 42)                9912      \n",
      "_________________________________________________________________\n",
      "dense_6 (Dense)              (None, 1)                 43        \n",
      "=================================================================\n",
      "Total params: 9,955\n",
      "Trainable params: 9,955\n",
      "Non-trainable params: 0\n",
      "_________________________________________________________________\n"
     ]
    }
   ],
   "source": [
    "print('*' * 50)\n",
    "print('Model summary:')\n",
    "model.summary()"
   ]
  },
  {
   "cell_type": "code",
   "execution_count": 83,
   "metadata": {
    "colab": {
     "base_uri": "https://localhost:8080/"
    },
    "id": "XtBN5CctUFGD",
    "outputId": "3aaf75a3-f996-4cc6-a9c1-f2ff6fbc1c7d"
   },
   "outputs": [
    {
     "name": "stdout",
     "output_type": "stream",
     "text": [
      "Epoch 1/10\n",
      "60/60 [==============================] - 31s 513ms/step - loss: 0.0145 - val_loss: 0.0021\n",
      "Epoch 2/10\n",
      "60/60 [==============================] - 30s 504ms/step - loss: 0.0035 - val_loss: 0.0014\n",
      "Epoch 3/10\n",
      "60/60 [==============================] - 30s 499ms/step - loss: 0.0028 - val_loss: 0.0012\n",
      "Epoch 4/10\n",
      "60/60 [==============================] - 30s 499ms/step - loss: 0.0010 - val_loss: 0.0012\n",
      "Epoch 5/10\n",
      "60/60 [==============================] - 31s 518ms/step - loss: 0.0012 - val_loss: 0.0011\n",
      "Epoch 6/10\n",
      "60/60 [==============================] - 30s 497ms/step - loss: 8.1123e-04 - val_loss: 9.9849e-04\n",
      "Epoch 7/10\n",
      "60/60 [==============================] - 30s 507ms/step - loss: 7.9388e-04 - val_loss: 8.9849e-04\n",
      "Epoch 8/10\n",
      "60/60 [==============================] - 30s 503ms/step - loss: 5.7962e-04 - val_loss: 8.4750e-04\n",
      "Epoch 9/10\n",
      "60/60 [==============================] - 30s 500ms/step - loss: 5.4591e-04 - val_loss: 7.5347e-04\n",
      "Epoch 10/10\n",
      "60/60 [==============================] - 30s 503ms/step - loss: 4.1853e-04 - val_loss: 7.2188e-04\n"
     ]
    }
   ],
   "source": [
    "history= model.fit(trainX, trainY,validation_split=0.30, epochs=epochs, batch_size=batchSize,shuffle=False)"
   ]
  },
  {
   "cell_type": "code",
   "execution_count": 84,
   "metadata": {
    "colab": {
     "base_uri": "https://localhost:8080/",
     "height": 295
    },
    "id": "AUKuu0h88kPK",
    "outputId": "4c50ab17-689e-4fbe-b84b-87180a29f52a",
    "scrolled": true
   },
   "outputs": [
    {
     "data": {
      "image/png": "[encoded data removed]",
      "text/plain": [
       "<Figure size 432x288 with 1 Axes>"
      ]
     },
     "metadata": {
      "needs_background": "light",
      "tags": []
     },
     "output_type": "display_data"
    }
   ],
   "source": [
    "plt.plot(history.history['loss'])\n",
    "plt.plot(history.history['val_loss'])\n",
    "plt.title('Model loss')\n",
    "plt.ylabel('Loss')\n",
    "plt.xlabel('Epoch')\n",
    "plt.legend(['training', 'validation'], loc='upper right')\n",
    "plt.show()"
   ]
  },
  {
   "cell_type": "code",
   "execution_count": 85,
   "metadata": {
    "id": "elakm38g8kPK"
   },
   "outputs": [],
   "source": [
    "trainPredict = model.predict(trainX)\n",
    "testPredict = model.predict(testX)\n",
    "\n",
    "trainPredict_extended = np.zeros((len(trainPredict),Nfeatures))\n",
    "trainPredict_extended[:,predictCol] = trainPredict[:,0]\n",
    "trainPredict = scaler.inverse_transform(trainPredict_extended) [:,predictCol]\n",
    "\n",
    "testPredict_extended = np.zeros((len(testPredict),Nfeatures))\n",
    "testPredict_extended[:,predictCol] = testPredict[:,0]\n",
    "testPredict = scaler.inverse_transform(testPredict_extended)[:,predictCol] \n",
    "\n",
    "trainY_extended = np.zeros((len(trainY),Nfeatures))\n",
    "trainY_extended[:,predictCol]=trainY\n",
    "trainY = scaler.inverse_transform(trainY_extended)[:,predictCol]\n",
    "\n",
    "testY_extended = np.zeros((len(testY),Nfeatures))\n",
    "testY_extended[:,predictCol]=testY\n",
    "testY = scaler.inverse_transform(testY_extended)[:,predictCol]\n",
    "\n",
    "trainScore_RMSE = math.sqrt(mean_squared_error(trainY, trainPredict))\n",
    "testScore_RMSE = math.sqrt(mean_squared_error(testY, testPredict))"
   ]
  },
  {
   "cell_type": "code",
   "execution_count": 86,
   "metadata": {
    "colab": {
     "base_uri": "https://localhost:8080/",
     "height": 571
    },
    "id": "3OmsmF8s8kPK",
    "outputId": "86169210-9aab-42f8-c6b7-efd553434967"
   },
   "outputs": [
    {
     "data": {
      "text/plain": [
       "Text(0.5, 1.0, 'Bitcoin Price Prediction')"
      ]
     },
     "execution_count": 86,
     "metadata": {
      "tags": []
     },
     "output_type": "execute_result"
    },
    {
     "data": {
      "image/png": "[encoded data removed]",
      "text/plain": [
       "<Figure size 1080x504 with 1 Axes>"
      ]
     },
     "metadata": {
      "needs_background": "light",
      "tags": []
     },
     "output_type": "display_data"
    }
   ],
   "source": [
    "trainPredictPlot = np.empty_like(dataset)\n",
    "trainPredictPlot[:, :] = np.nan\n",
    "trainPredictPlot[lookBack:len(trainPredict)+lookBack, predictCol] = trainPredict\n",
    "\n",
    "testPredictPlot = np.empty_like(dataset)\n",
    "testPredictPlot[:, :] = np.nan\n",
    "testPredictPlot[len(trainPredict)+(lookBack*2)+1:len(dataset)-1, predictCol] = testPredict\n",
    "\n",
    "time_df = pd.DataFrame(df.index)\n",
    "time_df['Actual'] = scaler.inverse_transform(dataset)[:,predictCol]\n",
    "df1 = pd.DataFrame(trainPredictPlot[:,predictCol],columns=['Train'])\n",
    "df2 = pd.DataFrame(testPredictPlot[:,predictCol],columns=['Test'])\n",
    "time_df2 = pd.concat([time_df, df1, df2], axis=1, sort=False)\n",
    "time_df2.set_index('timestamp',inplace=True)\n",
    "\n",
    "fig, ax = plt.subplots(figsize=(15,7))\n",
    "time_df2.plot(ax=ax,rot=90,alpha=0.7)\n",
    "plt.xlabel('Timestamp')\n",
    "plt.ylabel('Bitcoin Value')\n",
    "plt.title('Bitcoin Price Prediction')"
   ]
  },
  {
   "cell_type": "code",
   "execution_count": 87,
   "metadata": {
    "colab": {
     "base_uri": "https://localhost:8080/"
    },
    "id": "LckYgaAo8kPL",
    "outputId": "c205cde7-6b8e-4451-9dc4-3b8dc42a23b4"
   },
   "outputs": [
    {
     "name": "stdout",
     "output_type": "stream",
     "text": [
      "**************************************************\n",
      "Train Score: 491.42 RMSE\n",
      "Test Score: 572.16 RMSE\n",
      "**************************************************\n"
     ]
    }
   ],
   "source": [
    "print('*' * 50)\n",
    "print('Train Score: %.2f RMSE' % (trainScore_RMSE))\n",
    "print('Test Score: %.2f RMSE' % (testScore_RMSE))\n",
    "print('*' * 50)"
   ]
  },
  {
   "cell_type": "code",
   "execution_count": 87,
   "metadata": {
    "id": "AaYtRV748kPL"
   },
   "outputs": [],
   "source": []
  }
 ],
 "metadata": {
  "colab": {
   "collapsed_sections": [],
   "name": "Main.ipynb",
   "provenance": [],
   "toc_visible": true
  },
  "kernelspec": {
   "display_name": "Python 3",
   "language": "python",
   "name": "python3"
  },
  "language_info": {
   "codemirror_mode": {
    "name": "ipython",
    "version": 3
   },
   "file_extension": ".py",
   "mimetype": "text/x-python",
   "name": "python",
   "nbconvert_exporter": "python",
   "pygments_lexer": "ipython3",
   "version": "3.8.3"
  }
 },
 "nbformat": 4,
 "nbformat_minor": 1
}
